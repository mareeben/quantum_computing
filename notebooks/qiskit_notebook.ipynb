{
 "cells": [
  {
   "metadata": {
    "ExecuteTime": {
     "end_time": "2025-04-22T11:36:28.688847Z",
     "start_time": "2025-04-22T11:36:28.685942Z"
    }
   },
   "cell_type": "code",
   "source": [
    "from qiskit_ibm_runtime import QiskitRuntimeService\n",
    "import math\n",
    "import numpy as np\n",
    "import random\n",
    "from qiskit import transpile\n",
    "from qiskit_aer import AerSimulator\n",
    "from qiskit_ibm_runtime import SamplerV2\n",
    "from qiskit import QuantumCircuit\n",
    "from math import gcd\n",
    "import time"
   ],
   "id": "5ec25b416ca15687",
   "outputs": [],
   "execution_count": 64
  },
  {
   "metadata": {
    "collapsed": true,
    "ExecuteTime": {
     "end_time": "2025-04-22T11:51:52.591854Z",
     "start_time": "2025-04-22T11:51:52.583303Z"
    }
   },
   "cell_type": "code",
   "source": [
    "def modular_exponentiation(a, x, N, n):\n",
    "    \"\"\"\n",
    "    Creates a quantum circuit instruction to perform modular exponentiation.\n",
    "\n",
    "    Args:\n",
    "        a (int): The base of the exponentiation.\n",
    "        x (int): The power to which the base is raised.\n",
    "        N (int): The modulus.\n",
    "        n (int): Number of qubits required to represent the modulus.\n",
    "\n",
    "    Returns:\n",
    "        Instruction: A quantum circuit instruction for modular exponentiation.\n",
    "    \"\"\"\n",
    "    qc = QuantumCircuit(n + 1)\n",
    "    for i in range(n):\n",
    "        qc.p(2 * np.pi * (a**(x % N)) / N, i)  # Phase rotation with modular exponentiation\n",
    "    return qc.to_instruction()  # Return the quantum instruction to be reused\n",
    "\n",
    "\n",
    "def inverse_qft(n):\n",
    "    \"\"\"\n",
    "    Constructs an inverse Quantum Fourier Transform (QFT) circuit.\n",
    "\n",
    "    Args:\n",
    "        n (int): The number of qubits in the circuit.\n",
    "\n",
    "    Returns:\n",
    "        Instruction: A quantum circuit instruction for the inverse QFT.\n",
    "    \"\"\"\n",
    "    qc = QuantumCircuit(n)\n",
    "    for i in range(n // 2):\n",
    "        qc.swap(i, n - i - 1)  # Swap qubits to reverse their order\n",
    "    for i in range(n):\n",
    "        for j in range(i):\n",
    "            qc.cp(-np.pi / 2**(i - j), j, i)  # Controlled phase gate\n",
    "        qc.h(i)  # Apply Hadamard gate\n",
    "    return qc.to_instruction()  # Return the quantum instruction to be reused\n",
    "\n",
    "\n",
    "def find_order_from_phase(phase_decimal):\n",
    "    \"\"\"\n",
    "    Determines the order from the phase result of Quantum Phase Estimation (QPE).\n",
    "\n",
    "    Args:\n",
    "        phase_decimal (float): The phase result as a decimal value.\n",
    "\n",
    "    Returns:\n",
    "        int: The denominator of the phase fraction, which is the order.\n",
    "    \"\"\"\n",
    "    fraction = phase_decimal.as_integer_ratio()  # Convert the phase into a fraction\n",
    "    return fraction[1]  # The denominator gives the order\n",
    "\n",
    "\n",
    "def qpe_setup(a, N, max_available_qubits=math.inf):\n",
    "    \"\"\"\n",
    "    Generates a quantum circuit for the generalized phase estimation setup.\n",
    "\n",
    "    Args:\n",
    "        a (int): The base for modular exponentiation.\n",
    "        N (int): The modulus.\n",
    "\n",
    "    Returns:\n",
    "        tuple: A tuple consisting of the quantum circuit (QuantumCircuit) and the\n",
    "               number of phase estimation qubits (int).\n",
    "               :param max_available_qubits:\n",
    "    \"\"\"\n",
    "    n = math.ceil(math.log2(N))  # Number of qubits needed to represent N\n",
    "    m = 2 * n  # Extra qubits for accuracy in the QPE\n",
    "\n",
    "    if m > max_available_qubits:\n",
    "        raise ValueError(f\"Need {max_available_qubits} qubits for the quantum circuit but only have {m} available.\")\n",
    "\n",
    "    qc = QuantumCircuit(m + n, m)  # Create a circuit with m phase qubits and n target qubits\n",
    "\n",
    "    qc.x(m)  # Set the first qubit of the target register to |1>\n",
    "\n",
    "    # Initialize the phase qubits in superposition\n",
    "    qc.h(range(m))  # Apply Hadamard gates to phase qubits\n",
    "\n",
    "    # Apply controlled unitary operations\n",
    "    for qubit in range(m):\n",
    "        qc.append(modular_exponentiation(a, 2**qubit, N, n),\n",
    "                  [qubit] + list(range(m, m + n)))  # Controlled evolution\n",
    "\n",
    "    # Apply the inverse QFT to the phase register\n",
    "    qc.append(inverse_qft(m), range(m))\n",
    "\n",
    "    # Measure the phase qubits\n",
    "    qc.measure(range(m), range(m))\n",
    "\n",
    "    return qc, m\n",
    "\n",
    "\n",
    "def qpe_ibm_quantum_backend(qc, m):\n",
    "    \"\"\"\n",
    "    Implements Quantum Phase Estimation (QPE) to estimate the phase and determine the order using IBM's quantum computers.\n",
    "\n",
    "    Args:\n",
    "        a (int): The base for modular exponentiation.\n",
    "        m: The number of qubits in the circuit.\n",
    "\n",
    "    Returns:\n",
    "        int: The order 'r' of the modular exponentiation.\n",
    "    \"\"\"\n",
    "\n",
    "    print(\"Performing quantum phase estimation on IBM Quantum Computer...\")\n",
    "    print(\"Connecting to IBM Quantum Computer...\")\n",
    "    start_time = time.time()\n",
    "    # Connect to IBM Quantum using Qiskit Runtime\n",
    "    service = QiskitRuntimeService()\n",
    "    backends = service.backends()\n",
    "    backend = backends[0]\n",
    "    execution_time = time.time() - start_time\n",
    "    print(f\"Connected to {backend}. Took {execution_time} seconds\")\n",
    "\n",
    "    # Access the number of qubits from the backend\n",
    "    num_qubits = backend.num_qubits\n",
    "    print(f\"Number of qubits on quantum computer: {num_qubits}\")\n",
    "\n",
    "    # Run using the Sampler primitive\n",
    "    transpiled_qc = transpile(qc, backend)\n",
    "    sampler = SamplerV2(backend)\n",
    "    start_time = time.time()\n",
    "    print(\"Starting job on Quantum Computer...\")\n",
    "    job = sampler.run([transpiled_qc])\n",
    "    result = job.result()\n",
    "    execution_time = time.time() - start_time\n",
    "    print(f\"Execution time of job on Quantum Computer: {execution_time} seconds\")\n",
    "\n",
    "    # Extract phase estimation result using join_data and get_counts\n",
    "    pub_result = result[0]\n",
    "    counts = pub_result.join_data().get_counts()\n",
    "    measured_value = max(counts, key=counts.get)\n",
    "    phase_estimate = int(measured_value, 2) / (2**m)\n",
    "    r = find_order_from_phase(phase_estimate)\n",
    "\n",
    "    return r\n",
    "\n",
    "\n",
    "def qpe_ibm_local_simulator(qc, m):\n",
    "    \"\"\"\n",
    "    Implements Quantum Phase Estimation (QPE) to estimate the phase and determine the order using a local simulator.\n",
    "\n",
    "    Args:\n",
    "        a (int): The base for modular exponentiation.\n",
    "        m: The number of qubits in the circuit.\n",
    "        N (int): The modulus.\n",
    "        backend (Backend): The backend to use.\n",
    "\n",
    "    Returns:\n",
    "        int: The order 'r' of the modular exponentiation.\n",
    "    \"\"\"\n",
    "\n",
    "    simulator = AerSimulator()  # Use Qiskit's AerSimulator\n",
    "    transpiled_qc = transpile(qc, simulator)  # Transpile the circuit for the simulator\n",
    "    job = simulator.run(transpiled_qc)  # Run the simulation\n",
    "    result = job.result()  # Get the result object\n",
    "\n",
    "    # Extract phase estimation result\n",
    "    counts = result.get_counts()\n",
    "    measured_value = max(counts, key=counts.get)\n",
    "    phase_estimate = int(measured_value, 2) / (2**m)\n",
    "    r = find_order_from_phase(phase_estimate)\n",
    "\n",
    "    return r\n",
    "\n",
    "def shors_algorithm(N, run_locally):\n",
    "    \"\"\"\n",
    "    Implements Shor's algorithm to find the non-trivial prime factors of a given number.\n",
    "\n",
    "    Args:\n",
    "        N (int): The number to factorize.\n",
    "\n",
    "    Returns:\n",
    "        tuple: A pair of non-trivial factors of 'n'.\n",
    "    \"\"\"\n",
    "    if N % 2 == 0:  # Check if n is even\n",
    "        return 2  # Return 2 as a factor\n",
    "\n",
    "    # Pick a random number 'a' in the range [2, n-1]\n",
    "    a = random.randint(2, N - 1)\n",
    "    g = gcd(a, N)  # Compute the greatest common divisor (GCD) of a and n\n",
    "\n",
    "    # If the gcd is not one then return it as a factor\n",
    "    if g != 1:\n",
    "        return g\n",
    "\n",
    "    # Create the quantum circuit\n",
    "    qc, m = qpe_setup(a, N)\n",
    "\n",
    "    # Perform QPE to find the order 'r' of 'a' modulo 'n'\n",
    "    if run_locally:\n",
    "        r = qpe_ibm_local_simulator(qc, m)\n",
    "    else:\n",
    "        r = qpe_ibm_quantum_backend(qc, m)\n",
    "\n",
    "    if r % 2 != 0 or pow(a, r // 2, N) == N - 1:  # Check if r is odd or invalid for factorization\n",
    "        return shors_algorithm(N, run_locally)  # Retry with a different random 'a'\n",
    "\n",
    "    # Compute the factors using the order 'r'\n",
    "    factor1 = gcd(pow(a, r // 2) - 1, N)\n",
    "    factor2 = gcd(pow(a, r // 2) + 1, N)\n",
    "\n",
    "    if factor1 == 1 or factor2 == 1:  # If factors are trivial, retry\n",
    "        return shors_algorithm(N, run_locally)\n",
    "\n",
    "    return factor1, factor2  # Return the non-trivial factors of n\n",
    "\n",
    "run_locally = True\n",
    "N = 15\n",
    "\n",
    "if run_locally:\n",
    "    print(f\"Running Shor's algorithm locally to find the non-trivial prime factors of {N}.\")\n",
    "    result = shors_algorithm(15, True)\n",
    "    print(f\"The non-trivial prime factors of {N} are {result}.\")\n",
    "else:\n",
    "    print(f\"Running Shor's algorithm on quantum computer to find the non-trivial prime factors of {N}.\")\n",
    "    result = shors_algorithm(N, False)\n",
    "    print(f\"The non-trivial prime factors of {N} are {result}.\")"
   ],
   "id": "initial_id",
   "outputs": [
    {
     "name": "stdout",
     "output_type": "stream",
     "text": [
      "Running Shor's algorithm locally to find the non-trivial prime factors of 15.\n",
      "The non-trivial prime factors of 15 are 3.\n"
     ]
    }
   ],
   "execution_count": 91
  },
  {
   "metadata": {
    "ExecuteTime": {
     "end_time": "2025-04-22T11:34:16.516545Z",
     "start_time": "2025-04-22T11:33:56.131251Z"
    }
   },
   "cell_type": "code",
   "source": [
    "run_locally = False\n",
    "N = 15\n",
    "\n",
    "if run_locally:\n",
    "    print(f\"Running Shor's algorithm locally to find the non-trivial prime factors of {N}.\")\n",
    "    result = shors_algorithm(15, True)\n",
    "    print(f\"The non-trivial prime factors of {N} are {result}.\")\n",
    "else:\n",
    "    print(f\"Running Shor's algorithm on quantum computer to find the non-trivial prime factors of {N}.\")\n",
    "\n",
    "    result = shors_algorithm(N, False)\n",
    "    print(f\"The non-trivial prime factors of {N} are {result}.\")\n"
   ],
   "id": "8d3a542a013d8807",
   "outputs": [
    {
     "name": "stdout",
     "output_type": "stream",
     "text": [
      "Running Shor's algorithm on quantum computer to find the non-trivial prime factors of 15.\n",
      "Number of qubits on quantum computer: 127\n",
      "Performing quantum phase estimation on IBM Quantum Computer...\n",
      "Execution time of job on Quantum Computer: 0.9928159713745117 seconds\n"
     ]
    },
    {
     "ename": "KeyboardInterrupt",
     "evalue": "",
     "output_type": "error",
     "traceback": [
      "\u001B[31m---------------------------------------------------------------------------\u001B[39m",
      "\u001B[31mKeyboardInterrupt\u001B[39m                         Traceback (most recent call last)",
      "\u001B[36mCell\u001B[39m\u001B[36m \u001B[39m\u001B[32mIn[62]\u001B[39m\u001B[32m, line 20\u001B[39m\n\u001B[32m     17\u001B[39m num_qubits = backend.num_qubits\n\u001B[32m     18\u001B[39m \u001B[38;5;28mprint\u001B[39m(\u001B[33mf\u001B[39m\u001B[33m\"\u001B[39m\u001B[33mNumber of qubits on quantum computer: \u001B[39m\u001B[38;5;132;01m{\u001B[39;00mnum_qubits\u001B[38;5;132;01m}\u001B[39;00m\u001B[33m\"\u001B[39m)\n\u001B[32m---> \u001B[39m\u001B[32m20\u001B[39m result = \u001B[43mshors_algorithm\u001B[49m\u001B[43m(\u001B[49m\u001B[43mN\u001B[49m\u001B[43m,\u001B[49m\u001B[43m \u001B[49m\u001B[43mbackend\u001B[49m\u001B[43m)\u001B[49m\n\u001B[32m     21\u001B[39m \u001B[38;5;28mprint\u001B[39m(\u001B[33mf\u001B[39m\u001B[33m\"\u001B[39m\u001B[33mThe non-trivial prime factors of \u001B[39m\u001B[38;5;132;01m{\u001B[39;00mN\u001B[38;5;132;01m}\u001B[39;00m\u001B[33m are \u001B[39m\u001B[38;5;132;01m{\u001B[39;00mresult\u001B[38;5;132;01m}\u001B[39;00m\u001B[33m.\u001B[39m\u001B[33m\"\u001B[39m)\n",
      "\u001B[36mCell\u001B[39m\u001B[36m \u001B[39m\u001B[32mIn[57]\u001B[39m\u001B[32m, line 186\u001B[39m, in \u001B[36mshors_algorithm\u001B[39m\u001B[34m(N, backend)\u001B[39m\n\u001B[32m    184\u001B[39m     r = qpe_ibm_local_simulator(qc, N, m)\n\u001B[32m    185\u001B[39m \u001B[38;5;28;01melse\u001B[39;00m:\n\u001B[32m--> \u001B[39m\u001B[32m186\u001B[39m     r = \u001B[43mqpe_ibm_quantum_backend\u001B[49m\u001B[43m(\u001B[49m\u001B[43mqc\u001B[49m\u001B[43m,\u001B[49m\u001B[43m \u001B[49m\u001B[43mN\u001B[49m\u001B[43m,\u001B[49m\u001B[43m \u001B[49m\u001B[43mm\u001B[49m\u001B[43m,\u001B[49m\u001B[43m \u001B[49m\u001B[43mbackend\u001B[49m\u001B[43m)\u001B[49m\n\u001B[32m    188\u001B[39m \u001B[38;5;28;01mif\u001B[39;00m r % \u001B[32m2\u001B[39m != \u001B[32m0\u001B[39m \u001B[38;5;129;01mor\u001B[39;00m \u001B[38;5;28mpow\u001B[39m(a, r // \u001B[32m2\u001B[39m, N) == N - \u001B[32m1\u001B[39m:  \u001B[38;5;66;03m# Check if r is odd or invalid for factorization\u001B[39;00m\n\u001B[32m    189\u001B[39m     \u001B[38;5;28;01mreturn\u001B[39;00m shors_algorithm(N, backend)  \u001B[38;5;66;03m# Retry with a different random 'a'\u001B[39;00m\n",
      "\u001B[36mCell\u001B[39m\u001B[36m \u001B[39m\u001B[32mIn[57]\u001B[39m\u001B[32m, line 118\u001B[39m, in \u001B[36mqpe_ibm_quantum_backend\u001B[39m\u001B[34m(qc, N, m, backend)\u001B[39m\n\u001B[32m    116\u001B[39m execution_time = end_time - start_time\n\u001B[32m    117\u001B[39m \u001B[38;5;28mprint\u001B[39m(\u001B[33mf\u001B[39m\u001B[33m\"\u001B[39m\u001B[33mExecution time of job on Quantum Computer: \u001B[39m\u001B[38;5;132;01m{\u001B[39;00mexecution_time\u001B[38;5;132;01m}\u001B[39;00m\u001B[33m seconds\u001B[39m\u001B[33m\"\u001B[39m)\n\u001B[32m--> \u001B[39m\u001B[32m118\u001B[39m result = \u001B[43mjob\u001B[49m\u001B[43m.\u001B[49m\u001B[43mresult\u001B[49m\u001B[43m(\u001B[49m\u001B[43m)\u001B[49m\n\u001B[32m    120\u001B[39m \u001B[38;5;66;03m# Extract phase estimation result using join_data and get_counts\u001B[39;00m\n\u001B[32m    121\u001B[39m pub_result = result[\u001B[32m0\u001B[39m]\n",
      "\u001B[36mFile \u001B[39m\u001B[32mC:\\dev\\crypto-series\\quantum_computing\\.venv\\Lib\\site-packages\\qiskit_ibm_runtime\\runtime_job_v2.py:132\u001B[39m, in \u001B[36mRuntimeJobV2.result\u001B[39m\u001B[34m(self, timeout, decoder)\u001B[39m\n\u001B[32m    117\u001B[39m \u001B[38;5;250m\u001B[39m\u001B[33;03m\"\"\"Return the results of the job.\u001B[39;00m\n\u001B[32m    118\u001B[39m \n\u001B[32m    119\u001B[39m \u001B[33;03mArgs:\u001B[39;00m\n\u001B[32m   (...)\u001B[39m\u001B[32m    129\u001B[39m \u001B[33;03m    RuntimeInvalidStateError: If the job was cancelled, and attempting to retrieve result.\u001B[39;00m\n\u001B[32m    130\u001B[39m \u001B[33;03m\"\"\"\u001B[39;00m\n\u001B[32m    131\u001B[39m _decoder = decoder \u001B[38;5;129;01mor\u001B[39;00m \u001B[38;5;28mself\u001B[39m._final_result_decoder\n\u001B[32m--> \u001B[39m\u001B[32m132\u001B[39m \u001B[38;5;28;43mself\u001B[39;49m\u001B[43m.\u001B[49m\u001B[43mwait_for_final_state\u001B[49m\u001B[43m(\u001B[49m\u001B[43mtimeout\u001B[49m\u001B[43m=\u001B[49m\u001B[43mtimeout\u001B[49m\u001B[43m)\u001B[49m\n\u001B[32m    133\u001B[39m \u001B[38;5;28;01mif\u001B[39;00m \u001B[38;5;28mself\u001B[39m._status == \u001B[33m\"\u001B[39m\u001B[33mERROR\u001B[39m\u001B[33m\"\u001B[39m:\n\u001B[32m    134\u001B[39m     error_message = \u001B[38;5;28mself\u001B[39m._reason \u001B[38;5;28;01mif\u001B[39;00m \u001B[38;5;28mself\u001B[39m._reason \u001B[38;5;28;01melse\u001B[39;00m \u001B[38;5;28mself\u001B[39m._error_message\n",
      "\u001B[36mFile \u001B[39m\u001B[32mC:\\dev\\crypto-series\\quantum_computing\\.venv\\Lib\\site-packages\\qiskit_ibm_runtime\\runtime_job_v2.py:251\u001B[39m, in \u001B[36mRuntimeJobV2.wait_for_final_state\u001B[39m\u001B[34m(self, timeout)\u001B[39m\n\u001B[32m    247\u001B[39m         \u001B[38;5;28;01mif\u001B[39;00m timeout \u001B[38;5;129;01mis\u001B[39;00m \u001B[38;5;129;01mnot\u001B[39;00m \u001B[38;5;28;01mNone\u001B[39;00m \u001B[38;5;129;01mand\u001B[39;00m elapsed_time >= timeout:\n\u001B[32m    248\u001B[39m             \u001B[38;5;28;01mraise\u001B[39;00m RuntimeJobTimeoutError(\n\u001B[32m    249\u001B[39m                 \u001B[33mf\u001B[39m\u001B[33m\"\u001B[39m\u001B[33mTimed out waiting for job to complete after \u001B[39m\u001B[38;5;132;01m{\u001B[39;00mtimeout\u001B[38;5;132;01m}\u001B[39;00m\u001B[33m secs.\u001B[39m\u001B[33m\"\u001B[39m\n\u001B[32m    250\u001B[39m             )\n\u001B[32m--> \u001B[39m\u001B[32m251\u001B[39m         \u001B[43mtime\u001B[49m\u001B[43m.\u001B[49m\u001B[43msleep\u001B[49m\u001B[43m(\u001B[49m\u001B[32;43m0.1\u001B[39;49m\u001B[43m)\u001B[49m\n\u001B[32m    252\u001B[39m         status = \u001B[38;5;28mself\u001B[39m.status()\n\u001B[32m    253\u001B[39m \u001B[38;5;28;01mexcept\u001B[39;00m futures.TimeoutError:\n",
      "\u001B[31mKeyboardInterrupt\u001B[39m: "
     ]
    }
   ],
   "execution_count": 62
  },
  {
   "metadata": {
    "ExecuteTime": {
     "end_time": "2025-03-31T15:11:56.436625Z",
     "start_time": "2025-03-31T15:11:56.432862Z"
    }
   },
   "cell_type": "code",
   "source": [
    "from itertools import product\n",
    "import sympy\n",
    "\n",
    "def get_factors_from_prime_factors(prime_factors):\n",
    "    \"\"\"\n",
    "    Get all factors of a number using its prime factorization.\n",
    "\n",
    "    Args:\n",
    "    - prime_factors (dict): A dictionary where keys are prime numbers and values are their exponents.\n",
    "      Example: For 16 (2^4), pass {2: 4}.\n",
    "\n",
    "    Returns:\n",
    "    - List[int]: A sorted list of all factors of the number.\n",
    "    \"\"\"\n",
    "    # Generate ranges for each prime factor based on its exponent\n",
    "    factor_ranges = [[p ** e for e in range(exp + 1)] for p, exp in prime_factors.items()]\n",
    "\n",
    "    # Use the Cartesian product to generate all combinations of factors\n",
    "    all_factors = set(map(lambda x: eval('*'.join(map(str, x))), product(*factor_ranges)))\n",
    "\n",
    "    # Return sorted list of factors\n",
    "    return sorted(all_factors)\n",
    "\n",
    "def get_all_factors(n):\n",
    "    sympy_factors = sympy.factorint(n)\n",
    "    return get_factors_from_prime_factors(sympy_factors)"
   ],
   "id": "ebea30ada12307d2",
   "outputs": [
    {
     "name": "stdout",
     "output_type": "stream",
     "text": [
      "[1, 2, 4, 5, 10, 20, 25, 50, 100]\n"
     ]
    }
   ],
   "execution_count": 92
  },
  {
   "metadata": {
    "ExecuteTime": {
     "end_time": "2025-03-31T15:25:43.315540Z",
     "start_time": "2025-03-31T15:25:34.796465Z"
    }
   },
   "cell_type": "code",
   "source": [
    "for i in range(2, 161):\n",
    "    actual_factors = get_all_factors(i)\n",
    "    if len(actual_factors) == 2:\n",
    "        continue\n",
    "    shor_factors = shors_algorithm(i)\n",
    "    if shor_factors is None:\n",
    "        print(\"No factors found for\", i)\n",
    "    elif isinstance(shor_factors, tuple):\n",
    "        print(f\"Tuple found for {i}: {shor_factors}\")\n",
    "        for f in shor_factors:\n",
    "            if f not in actual_factors:\n",
    "                print(f\"Factor {f} not found in actual factors {actual_factors} for {i}\")\n",
    "    else:\n",
    "        if shor_factors not in actual_factors:\n",
    "            print(f\"Factor {shor_factors} not found in actual factors {actual_factors} for {i}\")"
   ],
   "id": "da213c34d70ce0cd",
   "outputs": [],
   "execution_count": 121
  },
  {
   "metadata": {
    "ExecuteTime": {
     "end_time": "2025-03-31T15:22:55.969207Z",
     "start_time": "2025-03-31T15:22:55.965669Z"
    }
   },
   "cell_type": "code",
   "source": [
    "def f():\n",
    "    return 2, 3\n",
    "\n",
    "result = f()\n",
    "type_of_result = type(result)\n",
    "print(type_of_result)\n",
    "print(isinstance(result, tuple))\n",
    "\n",
    "for val in f():\n",
    "    print(val)"
   ],
   "id": "a13dd75fee19c0a6",
   "outputs": [
    {
     "name": "stdout",
     "output_type": "stream",
     "text": [
      "<class 'tuple'>\n",
      "True\n",
      "2\n",
      "3\n"
     ]
    }
   ],
   "execution_count": 115
  },
  {
   "metadata": {
    "ExecuteTime": {
     "end_time": "2025-04-22T08:33:35.484483Z",
     "start_time": "2025-04-22T08:33:31.172545Z"
    }
   },
   "cell_type": "code",
   "source": [
    "import Secrets\n",
    "from qiskit_ibm_runtime import QiskitRuntimeService\n",
    "\n",
    "# Save account to disk and save it as the default.\n",
    "api_key = Secrets.IBM_QISKIT_API_KEY\n",
    "instance=\"Main\" #instance – The service instance to use. For ibm_cloud runtime, this is the Cloud Resource Name (CRN) or the service name. For ibm_quantum runtime, this is the hub/group/project in that format. https://quantum.cloud.ibm.com/\n",
    "QiskitRuntimeService.save_account(channel=\"ibm_cloud\", token=api_key, instance=instance, set_as_default=True, overwrite=True)\n",
    "\n",
    "# Load the saved credentials\n",
    "service = QiskitRuntimeService()"
   ],
   "id": "442bcfa3c1a21d23",
   "outputs": [],
   "execution_count": 19
  },
  {
   "metadata": {
    "ExecuteTime": {
     "end_time": "2025-04-22T08:33:57.704976Z",
     "start_time": "2025-04-22T08:33:48.797956Z"
    }
   },
   "cell_type": "code",
   "source": [
    "from qiskit import QuantumCircuit\n",
    "from qiskit_ibm_runtime import QiskitRuntimeService, SamplerV2 as Sampler\n",
    "\n",
    "# Create empty circuit\n",
    "example_circuit = QuantumCircuit(2)\n",
    "example_circuit.measure_all()\n",
    "\n",
    "backend = service.least_busy(operational=True, simulator=False)\n",
    "\n",
    "sampler = Sampler(backend)\n",
    "job = sampler.run([example_circuit])\n",
    "print(f\"job id: {job.job_id()}\")"
   ],
   "id": "fb0f61adf93d2850",
   "outputs": [
    {
     "name": "stdout",
     "output_type": "stream",
     "text": [
      "job id: d03l8sd1r6vs73dr1tsg\n"
     ]
    }
   ],
   "execution_count": 20
  },
  {
   "metadata": {},
   "cell_type": "code",
   "outputs": [],
   "execution_count": null,
   "source": "",
   "id": "6d6a0794c32ed271"
  }
 ],
 "metadata": {
  "kernelspec": {
   "display_name": "Python 3",
   "language": "python",
   "name": "python3"
  },
  "language_info": {
   "codemirror_mode": {
    "name": "ipython",
    "version": 2
   },
   "file_extension": ".py",
   "mimetype": "text/x-python",
   "name": "python",
   "nbconvert_exporter": "python",
   "pygments_lexer": "ipython2",
   "version": "2.7.6"
  }
 },
 "nbformat": 4,
 "nbformat_minor": 5
}
